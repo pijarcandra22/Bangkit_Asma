{
 "cells": [
  {
   "cell_type": "code",
   "execution_count": 16,
   "id": "fluid-preservation",
   "metadata": {},
   "outputs": [
    {
     "name": "stdout",
     "output_type": "stream",
     "text": [
      "You have TensorFlow version 2.9.0\n"
     ]
    }
   ],
   "source": [
    "import re\n",
    "import pandas as pd\n",
    "import numpy as np\n",
    "\n",
    "from sklearn.preprocessing import LabelBinarizer, LabelEncoder\n",
    "from sklearn.metrics import confusion_matrix\n",
    "\n",
    "import tensorflow as tf\n",
    "from tensorflow import keras\n",
    "from keras.models import Sequential\n",
    "from keras.layers import Dense, Activation, Dropout\n",
    "from keras.preprocessing import text, sequence\n",
    "from keras import utils\n",
    "\n",
    "# This code was tested with TensorFlow v1.4\n",
    "print(\"You have TensorFlow version\", tf.__version__)"
   ]
  },
  {
   "cell_type": "code",
   "execution_count": 2,
   "id": "supported-dance",
   "metadata": {},
   "outputs": [],
   "source": [
    "def backlist(text):\n",
    "    result = re.sub(r\"\\[|\\]|\\,|\\'\",'', text)\n",
    "    return result\n",
    "def tolist(text):\n",
    "    return text.split()"
   ]
  },
  {
   "cell_type": "code",
   "execution_count": 3,
   "id": "fifty-conservative",
   "metadata": {},
   "outputs": [
    {
     "data": {
      "text/html": [
       "<div>\n",
       "<style scoped>\n",
       "    .dataframe tbody tr th:only-of-type {\n",
       "        vertical-align: middle;\n",
       "    }\n",
       "\n",
       "    .dataframe tbody tr th {\n",
       "        vertical-align: top;\n",
       "    }\n",
       "\n",
       "    .dataframe thead th {\n",
       "        text-align: right;\n",
       "    }\n",
       "</style>\n",
       "<table border=\"1\" class=\"dataframe\">\n",
       "  <thead>\n",
       "    <tr style=\"text-align: right;\">\n",
       "      <th></th>\n",
       "      <th>Unnamed: 0</th>\n",
       "      <th>Document_No</th>\n",
       "      <th>Dominant_Topic</th>\n",
       "      <th>Topic_Perc_Contrib</th>\n",
       "      <th>Keywords</th>\n",
       "      <th>Text</th>\n",
       "    </tr>\n",
       "  </thead>\n",
       "  <tbody>\n",
       "    <tr>\n",
       "      <th>15741</th>\n",
       "      <td>15741</td>\n",
       "      <td>15741</td>\n",
       "      <td>11.0</td>\n",
       "      <td>0.4868</td>\n",
       "      <td>politik, milu, yang, orang, tunda, jadi, hanya...</td>\n",
       "      <td>di malaysia siuk tukar politik di negara luar ...</td>\n",
       "    </tr>\n",
       "    <tr>\n",
       "      <th>15742</th>\n",
       "      <td>15742</td>\n",
       "      <td>15742</td>\n",
       "      <td>5.0</td>\n",
       "      <td>0.6006</td>\n",
       "      <td>politik, ada, nak, aru, akyat, johor, jadi, da...</td>\n",
       "      <td>makna isra miraj kita idak boleh putus asa dal...</td>\n",
       "    </tr>\n",
       "    <tr>\n",
       "      <th>15743</th>\n",
       "      <td>15743</td>\n",
       "      <td>15743</td>\n",
       "      <td>11.0</td>\n",
       "      <td>0.8951</td>\n",
       "      <td>politik, milu, yang, orang, tunda, jadi, hanya...</td>\n",
       "      <td>pn bn mampu tahan rana amal politik matang</td>\n",
       "    </tr>\n",
       "    <tr>\n",
       "      <th>15744</th>\n",
       "      <td>15744</td>\n",
       "      <td>15744</td>\n",
       "      <td>4.0</td>\n",
       "      <td>0.7062</td>\n",
       "      <td>politik, dan, ini, itu, milu, tunda, la, jika,...</td>\n",
       "      <td>gak mungkin jago itu airlangga hartanto ahy ca...</td>\n",
       "    </tr>\n",
       "    <tr>\n",
       "      <th>15745</th>\n",
       "      <td>15745</td>\n",
       "      <td>15745</td>\n",
       "      <td>0.0</td>\n",
       "      <td>0.9528</td>\n",
       "      <td>ada, jaat, presiden, panjang, masa, partai, ta...</td>\n",
       "      <td>ada uni cancel uat majlis konvo kata s kes mak...</td>\n",
       "    </tr>\n",
       "  </tbody>\n",
       "</table>\n",
       "</div>"
      ],
      "text/plain": [
       "       Unnamed: 0  Document_No  Dominant_Topic  Topic_Perc_Contrib  \\\n",
       "15741       15741        15741            11.0              0.4868   \n",
       "15742       15742        15742             5.0              0.6006   \n",
       "15743       15743        15743            11.0              0.8951   \n",
       "15744       15744        15744             4.0              0.7062   \n",
       "15745       15745        15745             0.0              0.9528   \n",
       "\n",
       "                                                Keywords  \\\n",
       "15741  politik, milu, yang, orang, tunda, jadi, hanya...   \n",
       "15742  politik, ada, nak, aru, akyat, johor, jadi, da...   \n",
       "15743  politik, milu, yang, orang, tunda, jadi, hanya...   \n",
       "15744  politik, dan, ini, itu, milu, tunda, la, jika,...   \n",
       "15745  ada, jaat, presiden, panjang, masa, partai, ta...   \n",
       "\n",
       "                                                    Text  \n",
       "15741  di malaysia siuk tukar politik di negara luar ...  \n",
       "15742  makna isra miraj kita idak boleh putus asa dal...  \n",
       "15743         pn bn mampu tahan rana amal politik matang  \n",
       "15744  gak mungkin jago itu airlangga hartanto ahy ca...  \n",
       "15745  ada uni cancel uat majlis konvo kata s kes mak...  "
      ]
     },
     "execution_count": 3,
     "metadata": {},
     "output_type": "execute_result"
    }
   ],
   "source": [
    "df = pd.read_csv('final_data.csv')\n",
    "df.tail()"
   ]
  },
  {
   "cell_type": "code",
   "execution_count": 4,
   "id": "efficient-royal",
   "metadata": {},
   "outputs": [
    {
     "data": {
      "text/html": [
       "<div>\n",
       "<style scoped>\n",
       "    .dataframe tbody tr th:only-of-type {\n",
       "        vertical-align: middle;\n",
       "    }\n",
       "\n",
       "    .dataframe tbody tr th {\n",
       "        vertical-align: top;\n",
       "    }\n",
       "\n",
       "    .dataframe thead th {\n",
       "        text-align: right;\n",
       "    }\n",
       "</style>\n",
       "<table border=\"1\" class=\"dataframe\">\n",
       "  <thead>\n",
       "    <tr style=\"text-align: right;\">\n",
       "      <th></th>\n",
       "      <th>Text</th>\n",
       "      <th>Dominant_Topic</th>\n",
       "    </tr>\n",
       "  </thead>\n",
       "  <tbody>\n",
       "    <tr>\n",
       "      <th>15741</th>\n",
       "      <td>di malaysia siuk tukar politik di negara luar ...</td>\n",
       "      <td>11.0</td>\n",
       "    </tr>\n",
       "    <tr>\n",
       "      <th>15742</th>\n",
       "      <td>makna isra miraj kita idak boleh putus asa dal...</td>\n",
       "      <td>5.0</td>\n",
       "    </tr>\n",
       "    <tr>\n",
       "      <th>15743</th>\n",
       "      <td>pn bn mampu tahan rana amal politik matang</td>\n",
       "      <td>11.0</td>\n",
       "    </tr>\n",
       "    <tr>\n",
       "      <th>15744</th>\n",
       "      <td>gak mungkin jago itu airlangga hartanto ahy ca...</td>\n",
       "      <td>4.0</td>\n",
       "    </tr>\n",
       "    <tr>\n",
       "      <th>15745</th>\n",
       "      <td>ada uni cancel uat majlis konvo kata s kes mak...</td>\n",
       "      <td>0.0</td>\n",
       "    </tr>\n",
       "  </tbody>\n",
       "</table>\n",
       "</div>"
      ],
      "text/plain": [
       "                                                    Text  Dominant_Topic\n",
       "15741  di malaysia siuk tukar politik di negara luar ...            11.0\n",
       "15742  makna isra miraj kita idak boleh putus asa dal...             5.0\n",
       "15743         pn bn mampu tahan rana amal politik matang            11.0\n",
       "15744  gak mungkin jago itu airlangga hartanto ahy ca...             4.0\n",
       "15745  ada uni cancel uat majlis konvo kata s kes mak...             0.0"
      ]
     },
     "execution_count": 4,
     "metadata": {},
     "output_type": "execute_result"
    }
   ],
   "source": [
    "col = ['Text', 'Dominant_Topic']\n",
    "df = df[col]\n",
    "df = df[pd.notnull(df['Text'])]\n",
    "df.tail()"
   ]
  },
  {
   "cell_type": "code",
   "execution_count": 40,
   "id": "broadband-lodge",
   "metadata": {},
   "outputs": [],
   "source": [
    "df['Dominant_Topic'] = df['Dominant_Topic'].apply(str)"
   ]
  },
  {
   "cell_type": "code",
   "execution_count": 41,
   "id": "substantial-headquarters",
   "metadata": {},
   "outputs": [
    {
     "data": {
      "text/plain": [
       "Text              0\n",
       "Dominant_Topic    0\n",
       "dtype: int64"
      ]
     },
     "execution_count": 41,
     "metadata": {},
     "output_type": "execute_result"
    }
   ],
   "source": [
    "df.isnull().sum()"
   ]
  },
  {
   "cell_type": "code",
   "execution_count": 42,
   "id": "fourth-future",
   "metadata": {},
   "outputs": [
    {
     "data": {
      "text/plain": [
       "8     3465\n",
       "0     1283\n",
       "14    1222\n",
       "15     893\n",
       "5      883\n",
       "13     877\n",
       "12     842\n",
       "9      799\n",
       "11     723\n",
       "6      719\n",
       "16     679\n",
       "17     675\n",
       "2      615\n",
       "1      602\n",
       "7      565\n",
       "3      374\n",
       "4      370\n",
       "10     160\n",
       "Name: Dominant_Topic, dtype: int64"
      ]
     },
     "execution_count": 42,
     "metadata": {},
     "output_type": "execute_result"
    }
   ],
   "source": [
    "df['Dominant_Topic'].value_counts()"
   ]
  },
  {
   "cell_type": "code",
   "execution_count": 43,
   "id": "quick-medicaid",
   "metadata": {},
   "outputs": [
    {
     "name": "stdout",
     "output_type": "stream",
     "text": [
      "Train size: 12596\n",
      "Test size: 3150\n"
     ]
    }
   ],
   "source": [
    "# Split data into train and test\n",
    "train_size = int(len(df) * .8)\n",
    "print (\"Train size: %d\" % train_size)\n",
    "print (\"Test size: %d\" % (len(df) - train_size))"
   ]
  },
  {
   "cell_type": "code",
   "execution_count": 44,
   "id": "interesting-recovery",
   "metadata": {},
   "outputs": [],
   "source": [
    "train_text = df['Text'][:train_size]\n",
    "train_product = df['Dominant_Topic'][:train_size]\n",
    "\n",
    "test_text = df['Text'][train_size:]\n",
    "test_product = df['Dominant_Topic'][train_size:]"
   ]
  },
  {
   "cell_type": "code",
   "execution_count": 45,
   "id": "efficient-netscape",
   "metadata": {},
   "outputs": [],
   "source": [
    "max_words = 10000\n",
    "tokenize = text.Tokenizer(num_words=max_words, char_level=False)"
   ]
  },
  {
   "cell_type": "code",
   "execution_count": 46,
   "id": "passive-korea",
   "metadata": {},
   "outputs": [],
   "source": [
    "tokenize.fit_on_texts(train_text) # only fit on train\n",
    "x_train = tokenize.texts_to_matrix(train_text)\n",
    "x_test = tokenize.texts_to_matrix(test_text)"
   ]
  },
  {
   "cell_type": "code",
   "execution_count": 47,
   "id": "hindu-lawrence",
   "metadata": {},
   "outputs": [],
   "source": [
    "# Use sklearn utility to convert label strings to numbered index\n",
    "encoder = LabelEncoder()\n",
    "encoder.fit(train_product)\n",
    "y_train = encoder.transform(train_product)\n",
    "y_test = encoder.transform(test_product)"
   ]
  },
  {
   "cell_type": "code",
   "execution_count": 48,
   "id": "wrapped-supply",
   "metadata": {},
   "outputs": [],
   "source": [
    "# Converts the labels to a one-hot representation\n",
    "num_classes = np.max(y_train) + 1\n",
    "y_train = utils.to_categorical(y_train, num_classes)\n",
    "y_test = utils.to_categorical(y_test, num_classes)"
   ]
  },
  {
   "cell_type": "code",
   "execution_count": 49,
   "id": "aboriginal-concrete",
   "metadata": {},
   "outputs": [
    {
     "name": "stdout",
     "output_type": "stream",
     "text": [
      "x_train shape: (12596, 10000)\n",
      "x_test shape: (3150, 10000)\n",
      "y_train shape: (12596, 18)\n",
      "y_test shape: (3150, 18)\n"
     ]
    }
   ],
   "source": [
    "# Inspect the dimenstions of our training and test data (this is helpful to debug)\n",
    "print('x_train shape:', x_train.shape)\n",
    "print('x_test shape:', x_test.shape)\n",
    "print('y_train shape:', y_train.shape)\n",
    "print('y_test shape:', y_test.shape)"
   ]
  },
  {
   "cell_type": "code",
   "execution_count": 50,
   "id": "funny-county",
   "metadata": {},
   "outputs": [],
   "source": [
    "batch_size = 32\n",
    "epochs = 5"
   ]
  },
  {
   "cell_type": "code",
   "execution_count": 51,
   "id": "interested-hospital",
   "metadata": {},
   "outputs": [],
   "source": [
    "# Build the model\n",
    "model = Sequential()\n",
    "model.add(Dense(512, input_shape=(max_words,)))\n",
    "model.add(Activation('relu'))\n",
    "model.add(Dropout(0.5))\n",
    "model.add(Dense(num_classes))\n",
    "model.add(Activation('softmax'))\n",
    "\n",
    "model.compile(loss='categorical_crossentropy',\n",
    "              optimizer='adam',\n",
    "              metrics=['accuracy'])"
   ]
  },
  {
   "cell_type": "code",
   "execution_count": 52,
   "id": "vulnerable-fishing",
   "metadata": {},
   "outputs": [
    {
     "name": "stdout",
     "output_type": "stream",
     "text": [
      "Epoch 1/5\n",
      "355/355 [==============================] - 10s 27ms/step - loss: 0.8870 - accuracy: 0.7774 - val_loss: 0.8767 - val_accuracy: 0.7365\n",
      "Epoch 2/5\n",
      "355/355 [==============================] - 9s 27ms/step - loss: 0.2256 - accuracy: 0.9508 - val_loss: 0.7444 - val_accuracy: 0.7698\n",
      "Epoch 3/5\n",
      "355/355 [==============================] - 10s 27ms/step - loss: 0.0756 - accuracy: 0.9886 - val_loss: 0.7463 - val_accuracy: 0.7841\n",
      "Epoch 4/5\n",
      "355/355 [==============================] - 9s 27ms/step - loss: 0.0350 - accuracy: 0.9954 - val_loss: 0.7724 - val_accuracy: 0.7786\n",
      "Epoch 5/5\n",
      "355/355 [==============================] - 10s 27ms/step - loss: 0.0219 - accuracy: 0.9970 - val_loss: 0.7867 - val_accuracy: 0.7786\n"
     ]
    }
   ],
   "source": [
    "history = model.fit(x_train, y_train,\n",
    "                    batch_size=batch_size,\n",
    "                    epochs=epochs,\n",
    "                    verbose=1,\n",
    "                    validation_split=0.1)"
   ]
  },
  {
   "cell_type": "code",
   "execution_count": 53,
   "id": "angry-admission",
   "metadata": {},
   "outputs": [
    {
     "name": "stdout",
     "output_type": "stream",
     "text": [
      "99/99 [==============================] - 1s 7ms/step - loss: 0.7299 - accuracy: 0.8003\n",
      "Test score: 0.7299131155014038\n",
      "Test accuracy: 0.8003174662590027\n"
     ]
    }
   ],
   "source": [
    "# Evaluate the accuracy of our trained model\n",
    "score = model.evaluate(x_test, y_test,\n",
    "                       batch_size=batch_size, verbose=1)\n",
    "print('Test score:', score[0])\n",
    "print('Test accuracy:', score[1])"
   ]
  },
  {
   "cell_type": "code",
   "execution_count": 54,
   "id": "hairy-relay",
   "metadata": {},
   "outputs": [
    {
     "name": "stdout",
     "output_type": "stream",
     "text": [
      "1/1 [==============================] - 0s 73ms/step\n",
      "Text              inggal gmn tmn2 di partai politik dengar gelom...\n",
      "Dominant_Topic                                                    1\n",
      "Name: 0, dtype: object ...\n",
      "Actual label:6\n",
      "Predicted label: 6\n",
      "\n",
      "1/1 [==============================] - 0s 27ms/step\n",
      "Text              bego di kami nyak pilih tuk di aju jd presiden...\n",
      "Dominant_Topic                                                   14\n",
      "Name: 1, dtype: object ...\n",
      "Actual label:12\n",
      "Predicted label: 11\n",
      "\n",
      "1/1 [==============================] - 0s 21ms/step\n",
      "Text              awal saya husnuzon angin kuat ila tengok ni es...\n",
      "Dominant_Topic                                                   14\n",
      "Name: 2, dtype: object ...\n",
      "Actual label:15\n",
      "Predicted label: 15\n",
      "\n",
      "1/1 [==============================] - 0s 20ms/step\n",
      "Text              contoh gila lueran histeria massal lukis artis...\n",
      "Dominant_Topic                                                   17\n",
      "Name: 3, dtype: object ...\n",
      "Actual label:9\n",
      "Predicted label: 9\n",
      "\n",
      "1/1 [==============================] - 0s 24ms/step\n",
      "Text              dpd medan minta pemko fokus\n",
      "Dominant_Topic                              9\n",
      "Name: 4, dtype: object ...\n",
      "Actual label:13\n",
      "Predicted label: 12\n",
      "\n",
      "1/1 [==============================] - 0s 23ms/step\n",
      "Text              kalau cari pasang cari yang oleh ajak semang t...\n",
      "Dominant_Topic                                                    8\n",
      "Name: 5, dtype: object ...\n",
      "Actual label:15\n",
      "Predicted label: 12\n",
      "\n",
      "1/1 [==============================] - 0s 29ms/step\n",
      "Text              mungkin rakyat masih diammasih punya atas kesa...\n",
      "Dominant_Topic                                                    7\n",
      "Name: 6, dtype: object ...\n",
      "Actual label:16\n",
      "Predicted label: 16\n",
      "\n",
      "1/1 [==============================] - 0s 23ms/step\n",
      "Text              kalau cari pasang cari yang oleh ajak semang t...\n",
      "Dominant_Topic                                                    8\n",
      "Name: 7, dtype: object ...\n",
      "Actual label:9\n",
      "Predicted label: 16\n",
      "\n",
      "1/1 [==============================] - 0s 23ms/step\n",
      "Text              innalillahi gus yahya aru jg jadi ketua pbnu l...\n",
      "Dominant_Topic                                                    1\n",
      "Name: 8, dtype: object ...\n",
      "Actual label:14\n",
      "Predicted label: 13\n",
      "\n",
      "1/1 [==============================] - 0s 24ms/step\n",
      "Text              akyat johor dah mula ercakap nak dr jadi mb na...\n",
      "Dominant_Topic                                                    5\n",
      "Name: 9, dtype: object ...\n",
      "Actual label:13\n",
      "Predicted label: 13\n",
      "\n"
     ]
    }
   ],
   "source": [
    "# Here's how to generate a prediction on individual examples\n",
    "text_labels = encoder.classes_ \n",
    "\n",
    "for i in range(10):\n",
    "    prediction = model.predict(np.array([x_test[i]]))\n",
    "    predicted_label = text_labels[np.argmax(prediction)]\n",
    "    print(df.iloc[i][:50], \"...\")\n",
    "    print('Actual label:' + test_product.iloc[i])\n",
    "    print(\"Predicted label: \" + predicted_label + \"\\n\")"
   ]
  },
  {
   "cell_type": "code",
   "execution_count": 55,
   "id": "attended-reproduction",
   "metadata": {},
   "outputs": [
    {
     "name": "stdout",
     "output_type": "stream",
     "text": [
      "Model: \"sequential_1\"\n",
      "_________________________________________________________________\n",
      " Layer (type)                Output Shape              Param #   \n",
      "=================================================================\n",
      " dense_2 (Dense)             (None, 512)               5120512   \n",
      "                                                                 \n",
      " activation_2 (Activation)   (None, 512)               0         \n",
      "                                                                 \n",
      " dropout_1 (Dropout)         (None, 512)               0         \n",
      "                                                                 \n",
      " dense_3 (Dense)             (None, 18)                9234      \n",
      "                                                                 \n",
      " activation_3 (Activation)   (None, 18)                0         \n",
      "                                                                 \n",
      "=================================================================\n",
      "Total params: 5,129,746\n",
      "Trainable params: 5,129,746\n",
      "Non-trainable params: 0\n",
      "_________________________________________________________________\n"
     ]
    }
   ],
   "source": [
    "model.summary()"
   ]
  },
  {
   "cell_type": "code",
   "execution_count": 56,
   "id": "extra-finding",
   "metadata": {},
   "outputs": [],
   "source": [
    "model.save('Model_Klasifikasi_Topik.h5')"
   ]
  },
  {
   "cell_type": "code",
   "execution_count": null,
   "id": "developing-rhythm",
   "metadata": {},
   "outputs": [],
   "source": []
  }
 ],
 "metadata": {
  "kernelspec": {
   "display_name": "Python 3 (ipykernel)",
   "language": "python",
   "name": "python3"
  },
  "language_info": {
   "codemirror_mode": {
    "name": "ipython",
    "version": 3
   },
   "file_extension": ".py",
   "mimetype": "text/x-python",
   "name": "python",
   "nbconvert_exporter": "python",
   "pygments_lexer": "ipython3",
   "version": "3.9.1"
  }
 },
 "nbformat": 4,
 "nbformat_minor": 5
}
