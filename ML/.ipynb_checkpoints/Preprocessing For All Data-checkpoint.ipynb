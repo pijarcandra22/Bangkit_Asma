{
 "cells": [
  {
   "cell_type": "code",
   "execution_count": 1,
   "id": "confident-baker",
   "metadata": {},
   "outputs": [
    {
     "name": "stderr",
     "output_type": "stream",
     "text": [
      "Using Indonesia server backend.\n"
     ]
    }
   ],
   "source": [
    "import Preprocessing as pre"
   ]
  },
  {
   "cell_type": "code",
   "execution_count": 2,
   "id": "antique-english",
   "metadata": {},
   "outputs": [],
   "source": [
    "journal = pre.PreprocessingJournal('ugm_results_test_2.tsv')"
   ]
  },
  {
   "cell_type": "code",
   "execution_count": 3,
   "id": "minimal-database",
   "metadata": {},
   "outputs": [
    {
     "data": {
      "text/html": [
       "<div>\n",
       "<style scoped>\n",
       "    .dataframe tbody tr th:only-of-type {\n",
       "        vertical-align: middle;\n",
       "    }\n",
       "\n",
       "    .dataframe tbody tr th {\n",
       "        vertical-align: top;\n",
       "    }\n",
       "\n",
       "    .dataframe thead th {\n",
       "        text-align: right;\n",
       "    }\n",
       "</style>\n",
       "<table border=\"1\" class=\"dataframe\">\n",
       "  <thead>\n",
       "    <tr style=\"text-align: right;\">\n",
       "      <th></th>\n",
       "      <th>Judul</th>\n",
       "      <th>Penulis</th>\n",
       "      <th>PDF_Link</th>\n",
       "      <th>Abstrak</th>\n",
       "    </tr>\n",
       "  </thead>\n",
       "  <tbody>\n",
       "    <tr>\n",
       "      <th>0</th>\n",
       "      <td>Aktivisme dan Kesukarelawanan dalam Media So...</td>\n",
       "      <td>Ramma Wisnu Dewantara, Derajat S. Widhyharto</td>\n",
       "      <td>https://jurnal.ugm.ac.id/jsp/article/view/1085...</td>\n",
       "      <td>Aktivisme dan kesukarelawanan kaum muda dalam ...</td>\n",
       "    </tr>\n",
       "    <tr>\n",
       "      <th>1</th>\n",
       "      <td>Silent Political Apathy in Urban Society: Th...</td>\n",
       "      <td>Derajad Sulistyo Widhyharto, Desi Rahmawati, N...</td>\n",
       "      <td>https://jurnal.ugm.ac.id/jsp/article/view/5172...</td>\n",
       "      <td>Studies on non-voting behavior and which depar...</td>\n",
       "    </tr>\n",
       "    <tr>\n",
       "      <th>2</th>\n",
       "      <td>Karst: Ditambang atau Dilestarikan, Konflik ...</td>\n",
       "      <td>- Suharko</td>\n",
       "      <td>https://jurnal.ugm.ac.id/jsp/article/view/1088...</td>\n",
       "      <td>The establishment of cement industry at region...</td>\n",
       "    </tr>\n",
       "    <tr>\n",
       "      <th>3</th>\n",
       "      <td>Jalan Panjang Penyelesaian Konflik Kasus Lum...</td>\n",
       "      <td>Anis Farida</td>\n",
       "      <td>https://jurnal.ugm.ac.id/jsp/article/view/1088...</td>\n",
       "      <td>This study aims to understand the map of confl...</td>\n",
       "    </tr>\n",
       "    <tr>\n",
       "      <th>4</th>\n",
       "      <td>Masyarakat Adat versus Korporasi: Konflik So...</td>\n",
       "      <td>Suharko Suharko</td>\n",
       "      <td>https://jurnal.ugm.ac.id/jsp/article/view/2477...</td>\n",
       "      <td>Social confilct between indigenous community o...</td>\n",
       "    </tr>\n",
       "  </tbody>\n",
       "</table>\n",
       "</div>"
      ],
      "text/plain": [
       "                                               Judul  \\\n",
       "0    Aktivisme dan Kesukarelawanan dalam Media So...   \n",
       "1    Silent Political Apathy in Urban Society: Th...   \n",
       "2    Karst: Ditambang atau Dilestarikan, Konflik ...   \n",
       "3    Jalan Panjang Penyelesaian Konflik Kasus Lum...   \n",
       "4    Masyarakat Adat versus Korporasi: Konflik So...   \n",
       "\n",
       "                                             Penulis  \\\n",
       "0       Ramma Wisnu Dewantara, Derajat S. Widhyharto   \n",
       "1  Derajad Sulistyo Widhyharto, Desi Rahmawati, N...   \n",
       "2                                          - Suharko   \n",
       "3                                        Anis Farida   \n",
       "4                                    Suharko Suharko   \n",
       "\n",
       "                                            PDF_Link  \\\n",
       "0  https://jurnal.ugm.ac.id/jsp/article/view/1085...   \n",
       "1  https://jurnal.ugm.ac.id/jsp/article/view/5172...   \n",
       "2  https://jurnal.ugm.ac.id/jsp/article/view/1088...   \n",
       "3  https://jurnal.ugm.ac.id/jsp/article/view/1088...   \n",
       "4  https://jurnal.ugm.ac.id/jsp/article/view/2477...   \n",
       "\n",
       "                                             Abstrak  \n",
       "0  Aktivisme dan kesukarelawanan kaum muda dalam ...  \n",
       "1  Studies on non-voting behavior and which depar...  \n",
       "2  The establishment of cement industry at region...  \n",
       "3  This study aims to understand the map of confl...  \n",
       "4  Social confilct between indigenous community o...  "
      ]
     },
     "execution_count": 3,
     "metadata": {},
     "output_type": "execute_result"
    }
   ],
   "source": [
    "journal.tsvFile.head()"
   ]
  },
  {
   "cell_type": "code",
   "execution_count": null,
   "id": "informative-easter",
   "metadata": {},
   "outputs": [
    {
     "name": "stdout",
     "output_type": "stream",
     "text": [
      "translate dokumen  0\n",
      "translate dokumen  1\n",
      "translate dokumen  2\n",
      "translate dokumen  3\n",
      "translate dokumen  4\n"
     ]
    }
   ],
   "source": [
    "journal.processingJournal()"
   ]
  },
  {
   "cell_type": "code",
   "execution_count": null,
   "id": "aware-competition",
   "metadata": {},
   "outputs": [],
   "source": [
    "tweet = pre.PreprocessingText('twitterData1.csv')"
   ]
  },
  {
   "cell_type": "code",
   "execution_count": null,
   "id": "lyric-liver",
   "metadata": {},
   "outputs": [],
   "source": [
    "tweet.csvFile.head()        "
   ]
  },
  {
   "cell_type": "code",
   "execution_count": null,
   "id": "reserved-constant",
   "metadata": {},
   "outputs": [],
   "source": [
    "tweet.processingTweet()"
   ]
  },
  {
   "cell_type": "code",
   "execution_count": null,
   "id": "novel-riding",
   "metadata": {},
   "outputs": [],
   "source": [
    "tweet.csvFile.head()"
   ]
  },
  {
   "cell_type": "code",
   "execution_count": null,
   "id": "caring-coach",
   "metadata": {},
   "outputs": [],
   "source": [
    "tweet.GenerateTopik()"
   ]
  },
  {
   "cell_type": "code",
   "execution_count": null,
   "id": "other-restaurant",
   "metadata": {},
   "outputs": [],
   "source": []
  }
 ],
 "metadata": {
  "kernelspec": {
   "display_name": "Python 3 (ipykernel)",
   "language": "python",
   "name": "python3"
  },
  "language_info": {
   "codemirror_mode": {
    "name": "ipython",
    "version": 3
   },
   "file_extension": ".py",
   "mimetype": "text/x-python",
   "name": "python",
   "nbconvert_exporter": "python",
   "pygments_lexer": "ipython3",
   "version": "3.9.1"
  }
 },
 "nbformat": 4,
 "nbformat_minor": 5
}
